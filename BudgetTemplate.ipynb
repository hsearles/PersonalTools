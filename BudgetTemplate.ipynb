{
 "cells": [
  {
   "cell_type": "code",
   "execution_count": 1,
   "metadata": {},
   "outputs": [],
   "source": [
    "import numpy as np\n",
    "import pandas as pd\n",
    "\n",
    "import math\n",
    "import matplotlib.pyplot as plt\n",
    "\n",
    "import csv"
   ]
  },
  {
   "cell_type": "code",
   "execution_count": 2,
   "metadata": {},
   "outputs": [
    {
     "name": "stdout",
     "output_type": "stream",
     "text": [
      "   Trans. Date      Description  Amount             Category  \\\n",
      "0   01/02/2022  Amazon Expenses    7.03          Merchandise   \n",
      "1   01/02/2022  Amazon Expenses    6.36          Merchandise   \n",
      "3   01/02/2022    Entertainment    3.99          Merchandise   \n",
      "4   01/02/2022          Walmart   60.73          Merchandise   \n",
      "5   01/03/2022              Tea   18.89          Merchandise   \n",
      "6   01/03/2022              Tea   19.80          Merchandise   \n",
      "7   01/03/2022          Storage  173.00             Services   \n",
      "8   01/04/2022             Aldi   68.40         Supermarkets   \n",
      "9   01/04/2022         Dog Food   37.18          Merchandise   \n",
      "10  01/07/2022           Google    1.99          Merchandise   \n",
      "11  01/08/2022         Software    5.99          Merchandise   \n",
      "12  01/08/2022           Google    1.99          Merchandise   \n",
      "13  01/10/2022    Medical Bills  295.59     Medical Services   \n",
      "14  01/11/2022             Aldi    3.49         Supermarkets   \n",
      "15  01/15/2022         Dog Food   39.30          Merchandise   \n",
      "16  01/16/2022         Gasoline   21.72             Gasoline   \n",
      "17  01/17/2022           Google    7.99             Services   \n",
      "18  01/18/2022          Alcohol   21.98          Merchandise   \n",
      "19  01/18/2022          Walmart   25.97          Merchandise   \n",
      "20  01/22/2022          Alcohol   20.98          Merchandise   \n",
      "21  01/22/2022          Walmart   40.11          Merchandise   \n",
      "22  01/25/2022    Medical Bills  209.07          Merchandise   \n",
      "24  01/27/2022            Taxes   33.52  Government Services   \n",
      "25  01/27/2022            Taxes    1.00  Government Services   \n",
      "26  01/28/2022  Amazon Expenses    4.24          Merchandise   \n",
      "27  01/28/2022          Walmart   59.00          Merchandise   \n",
      "28  01/29/2022  Amazon Expenses   35.05          Merchandise   \n",
      "\n",
      "                                      Raw Description  \n",
      "0     AMAZON.COM*PU4W56BG3 AMZN.COM/BILLWA60PNU61PWEI  \n",
      "1     AMAZON.COM*YC9GC8KM3 AMZN.COM/BILLWA5Z59G1SM73Q  \n",
      "3    PRIME VIDEO*UJ9VA2133 888-802-3080 WA37D8PZTK8Q6  \n",
      "4                   WALMART STORE 02228 PITTSFIELD MA  \n",
      "5                         HARNEY TEAS 800-832-8463 NY  \n",
      "6                         HARNEY TEAS 800-832-8463 NY  \n",
      "7       PUBLIC STORAGE 25993 800-567-0759 VA209775676  \n",
      "8   ALDI 73024 PITTSFIELD MACASHOVER $ 40.00 PURCH...  \n",
      "9                   TRACTOR SUPPLY #728 PITTSFIELD MA  \n",
      "10     GOOGLE *GOOGLE STORAGE 855-836-3987 CAP0GPYP7Z  \n",
      "11                 CBI*PANDA 800-799-9570 IL312858649  \n",
      "12     GOOGLE *GOOGLE STORAGE 855-836-3987 CAP0GR0EJ5  \n",
      "13                   RESTON HOSPITAL CENTER RESTON VA  \n",
      "14                           ALDI 73024 PITTSFIELD MA  \n",
      "15                  TRACTOR SUPPLY #728 PITTSFIELD MA  \n",
      "16                        SHELL10011676003 WALTHAM MA  \n",
      "17          GOOGLE *WORKSPACE CC@GOOGLE.COMCAP0GEKWOO  \n",
      "18                NICHOLS PACKAGE STORE PITTSFIELD MA  \n",
      "19                  WALMART STORE 02228 PITTSFIELD MA  \n",
      "20                NICHOLS PACKAGE STORE PITTSFIELD MA  \n",
      "21                  WALMART STORE 02228 PITTSFIELD MA  \n",
      "22                  PETCO 1801 63518013730 COLONIE NY  \n",
      "24  ICI*CITY OF PITTSFIELD 413-499-9431 MAC2B26K19...  \n",
      "25  ICI*ONLINE PAYMENT FEE 866-342-9267 MAC2B26K19...  \n",
      "26    AMAZON.COM*P183055G3 AMZN.COM/BILLWA44R13UVW6K5  \n",
      "27                  WALMART STORE 02228 PITTSFIELD MA  \n",
      "28    AMAZON.COM*2D4TO4M93 AMZN.COM/BILLWA1WQBJ87BXSP  \n",
      "1224.36\n"
     ]
    }
   ],
   "source": [
    "df = pd.read_csv(\"...\")\n",
    "\n",
    "df.columns\n",
    "\n",
    "df['Raw Description'] = df['Description'] \n",
    "df = df[df.Category != \"Payments and Credits\"]\n",
    "df = df[df.Category != \"Awards and Rebate Credits\"]\n",
    "\n",
    "\n",
    "df['Description'] = np.where(df['Description'].str.contains('Amazon|AMAZON|Amz'),'Amazon Expenses', df['Description'])\n",
    "df['Description'] = np.where(df['Description'].str.contains('Walmart Store|02228|Pittsfield MA'),'Walmart', df['Description'])\n",
    "df['Description'] = np.where(df['Description'].str.contains('Prime Video|888'),'Entertainment', df['Description'])\n",
    "df['Description'] = np.where(df['Description'].str.contains('Harney|Teas|800-832'),'Tea', df['Description'])\n",
    "df['Description'] = np.where(df['Description'].str.contains('PUBLIC STORAGE'),'Storage', df['Description'])\n",
    "df['Description'] = np.where(df['Description'].str.contains('CBI*PANDA|800-799'),'Software', df['Description'])\n",
    "df['Description'] = np.where(df['Description'].str.contains('Aldi|73024|Pittsfield'),'Aldi', df['Description'])\n",
    "df['Description'] = np.where(df['Description'].str.contains('Tractory Supply|#728'),'Dog Food', df['Description'])\n",
    "df['Description'] = np.where(df['Description'].str.contains('Google|GOOGLE|WORKSPACE'),'Google', df['Description'])\n",
    "df['Description'] = np.where(df['Description'].str.contains('RESTON HOSPITAL|Reston VA|PETCO|1801'),'Medical Bills', df['Description'])\n",
    "df['Description'] = np.where(df['Description'].str.contains('SHELL|Waltham MA'),'Gasoline', df['Description'])\n",
    "df['Description'] = np.where(df['Description'].str.contains('NICHOLS PACKAGE STORE'),'Alcohol', df['Description'])\n",
    "df['Description'] = np.where(df['Description'].str.contains('CITY OF PITTSFIELD|ONLINE PAYMENT FEE'),'Taxes', df['Description'])\n",
    "\n",
    "df = df.drop(columns=['Post Date'])\n",
    "\n",
    "print(df)\n",
    "\n",
    "print(df['Amount'].sum())\n",
    "\n",
    "df.groupby(['Description','Amount']).sum()\n",
    "\n",
    "\n",
    "df.to_csv('JanExpenses.csv')"
   ]
  },
  {
   "cell_type": "code",
   "execution_count": 5,
   "metadata": {},
   "outputs": [
    {
     "name": "stdout",
     "output_type": "stream",
     "text": [
      "                 Amount\n",
      "Description            \n",
      "Alcohol           42.96\n",
      "Aldi              71.89\n",
      "Amazon Expenses   52.68\n",
      "Dog Food          76.48\n",
      "Entertainment      3.99\n",
      "Gasoline          21.72\n",
      "Google            11.97\n",
      "Medical Bills    504.66\n",
      "Software           5.99\n",
      "Storage          173.00\n",
      "Taxes             34.52\n",
      "Tea               38.69\n",
      "Walmart          185.81\n"
     ]
    },
    {
     "data": {
      "text/plain": [
       "<AxesSubplot:xlabel='Description'>"
      ]
     },
     "execution_count": 5,
     "metadata": {},
     "output_type": "execute_result"
    },
    {
     "data": {
      "image/png": "[encoded data removed]",
      "text/plain": [
       "<Figure size 432x288 with 1 Axes>"
      ]
     },
     "metadata": {
      "needs_background": "light"
     },
     "output_type": "display_data"
    }
   ],
   "source": [
    "SimplifiedSheet=df.groupby(['Description']).sum()\n",
    "print(SimplifiedSheet)\n",
    "SimplifiedSheet.plot.bar()"
   ]
  },
  {
   "cell_type": "code",
   "execution_count": null,
   "metadata": {},
   "outputs": [],
   "source": []
  }
 ],
 "metadata": {
  "interpreter": {
   "hash": "ee5cc6fef2d70a7e71ee3826687cbd150f18158e0b1eef11d4f4f92bb920e304"
  },
  "kernelspec": {
   "display_name": "Python 3.9.6 64-bit",
   "language": "python",
   "name": "python3"
  },
  "language_info": {
   "codemirror_mode": {
    "name": "ipython",
    "version": 3
   },
   "file_extension": ".py",
   "mimetype": "text/x-python",
   "name": "python",
   "nbconvert_exporter": "python",
   "pygments_lexer": "ipython3",
   "version": "3.9.6"
  },
  "orig_nbformat": 4
 },
 "nbformat": 4,
 "nbformat_minor": 2
}
